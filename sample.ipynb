{
 "cells": [
  {
   "metadata": {},
   "cell_type": "markdown",
   "source": [
    "# Curso de git y github\n",
    "Primero se debe configurar el uso de git en el IDE y en la posición de memoria en la que se encuentra el proyecto, para lo cula se utilizan los comandos git init, git add, git commit, git remote add origin, git pusho -u origin main.\n",
    "## git init\n",
    "Este comando inicializa un repositorio Git en el directorio actual, creando una carpeta .git que contiene la información del control de versiones.\n",
    "\n",
    "## git add\n",
    "Este comando agrega todos los archivos modificados y nuevos al área de preparación para el próximo commit.\n",
    "\n",
    "## git commit\n",
    "Este comando crea un nuevo commit en el repositorio local con los cambios agregados y los comentarios proporcionados.\n",
    "\n",
    "## git remote add origin\n",
    "Este comando agrega un repositorio remoto al repositorio git local, el repositorio remoto es una copia del repositorio local que se almacena en un servidor, en este caso Github.\n",
    "\n",
    "## git push -u origin main:\n",
    "Este comando envía los cambios locales al repositorio remoto, en este caso a la rama main del repositorio remoto de Github.\n",
    "A continuación se mostrarán comandos que permiten utilizar las herramientas de versionamiento.\n",
    "\n",
    "## git status\n",
    "Muestra el estado actual del repositorio git, indicando los archivos que han sido modificados, aquellos que se encuentran en área de preparación, y los que se encuentran en estado de listo para ser incluidos en el próximo commit.\n",
    "![](git1.png)\n",
    "\n",
    "## git branch\n",
    "Este comndo permite crear, listar, o eliminar ramas en un repositorio git.\n",
    "\n",
    "## git branch nombre de rama\n",
    "Crea una nueva rama con el nombre indicado.\n",
    "\n",
    "## git checkout -b nombre de la rama\n",
    "Crea una nueva rama a partir de la rama actual y cambia a ella.\n",
    "\n",
    "## git merge\n",
    "Combina los cambios de una rama a otra.\n",
    "\n",
    "## git pull\n",
    "Descarga los cambios de un repositorio remoto y los fuciona con aquello que se encuentra en el repositorio local.\n",
    "\n",
    "## git log\n",
    "Muestra un registro de cambios en el repositorio git, mostrando las fechas, autor, y el commit hash de cada cambio.\n",
    "\n",
    "## git stash \n",
    "Guarda los cambios sin confirmar en el dierctorio de trabajo, dentro de una pila llamada stash, lo que permite limpiar el directorio de trabajo sin perder los cambios.\n",
    "\n",
    "## git stash apply\n",
    "Recupera los cambios del stash y los aplica al directorio de trabajo.\n",
    "\n",
    "## git cherry-pick\n",
    "Permite aplicar un commmit espec[ifico de otra rama a la rama actual.\n",
    "\n",
    "## git revert \n",
    "Crea un nuevo commit que revierte los cambios de un commit específico, se utiliza para deshacer un commit sin perder el historial de commits.\n",
    "\n",
    "## git reset --soft\n",
    "Mueve el HEAD a un commit específico sin eliminar los cambios del directorio de trabajo, los cambios se moverán al área de preparación.\n",
    "\n",
    "## git commit --amend\n",
    "Permite modificar el último commit"
   ],
   "id": "89ae6cb7fe8fe11c"
  }
 ],
 "metadata": {
  "kernelspec": {
   "display_name": "Python 3",
   "language": "python",
   "name": "python3"
  },
  "language_info": {
   "codemirror_mode": {
    "name": "ipython",
    "version": 2
   },
   "file_extension": ".py",
   "mimetype": "text/x-python",
   "name": "python",
   "nbconvert_exporter": "python",
   "pygments_lexer": "ipython2",
   "version": "2.7.6"
  }
 },
 "nbformat": 4,
 "nbformat_minor": 5
}
